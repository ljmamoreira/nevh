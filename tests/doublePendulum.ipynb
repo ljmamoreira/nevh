{
 "cells": [
  {
   "cell_type": "markdown",
   "id": "340febc6",
   "metadata": {},
   "source": [
    "## Double Pendulum ##"
   ]
  },
  {
   "cell_type": "markdown",
   "id": "ae9aca26",
   "metadata": {},
   "source": [
    "### Equal lengths and masses ###"
   ]
  },
  {
   "cell_type": "markdown",
   "id": "e269f738",
   "metadata": {},
   "source": [
    "Hamiltonian:\n",
    "$$\n",
    "H=\\frac{1}{2ml^2}\\frac{p_1^2+p_2^2-2p_1p_2\\cos(\\varphi_1-\\varphi_2)}{1+\\sin^2(\\varphi_1-\\varphi_2)}-mgl(2\\cos\\varphi_1+\\cos\\varphi_2)\n",
    "$$"
   ]
  },
  {
   "cell_type": "code",
   "execution_count": 1,
   "id": "76df624e",
   "metadata": {},
   "outputs": [],
   "source": [
    "import sys\n",
    "import numpy as np\n",
    "from scipy.integrate import solve_ivp\n",
    "import matplotlib.pyplot as plt\n",
    "from math import sin, cos\n",
    "\n",
    "#The following line makes modules in src/ accessible from the (current) test/ dir\n",
    "sys.path.append(\"../src\")\n",
    "import nevh"
   ]
  },
  {
   "cell_type": "code",
   "execution_count": 2,
   "id": "b0417459",
   "metadata": {},
   "outputs": [],
   "source": [
    "# Hamiltonian function for the NEVH approach\n",
    "def H(t, s, m, g, l):\n",
    "    q1, q2, p1, p2 = s\n",
    "    H1 = (1.0/(2*m*l**2)) * (p1**2 + p2**2 - 2*p1*p2*cos(q1-q2)) / (1 + (sin(q1-q2))**2)\n",
    "    H2 = -m*g*l * (2*cos(q1) + cos(q2))\n",
    "    return H1 + H2\n",
    "\n",
    "# RHS of Hamilton's equations, for the standard approach\n",
    "def rhs(t, s, m, g, l):\n",
    "    q1, q2, p1, p2 = s\n",
    "    sindq = sin(q1-q2)\n",
    "    cosdq = cos(q1-q2)\n",
    "    den = 1+ sindq**2\n",
    "    dHddq = (1/(2*m*l**2)) * ( 2*p1*p2*sindq / den - \n",
    "        (p1**2 + p2**2 - 2*p1*p2*cosdq) / (1+sindq**2)**2 * 2*sindq*cosdq )\n",
    "    dHdq1 =  dHddq + 2*m*g*l * sin(q1)\n",
    "    dHdq2 = -dHddq +   m*g*l * sin(q2)\n",
    "    dHdp1 = (1/(m*l**2)) * (p1 - p2*cosdq) / den\n",
    "    dHdp2 = (1/(m*l**2)) * (p2 - p1*cosdq) / den\n",
    "    return [dHdp1, dHdp2, -dHdq1, -dHdq2]"
   ]
  },
  {
   "cell_type": "code",
   "execution_count": 4,
   "id": "5bb5b757",
   "metadata": {},
   "outputs": [],
   "source": [
    "# Physical and numeric parameters, inits\n",
    "m=1.0; l=1.0; g = 9.8\n",
    "ds = np.ones(4) * 0.02\n",
    "\n",
    "G = nevh.HGrad(H, ds, m=m, l=l, g=g)\n",
    "\n",
    "q1 = np.pi / 2\n",
    "q2 = 0\n",
    "p1 = p2 = 0.0\n",
    "s0 = np.array([q1, q2, p1, p2])\n",
    "ti = 0.0; tf = 20.0; time_interval = [ti, tf]\n",
    "N=500\n",
    "t = np.linspace(ti, tf, N)\n",
    "dt = (tf-ti)/N\n"
   ]
  },
  {
   "cell_type": "code",
   "execution_count": 5,
   "id": "611335a4",
   "metadata": {},
   "outputs": [
    {
     "name": "stdout",
     "output_type": "stream",
     "text": [
      "CPU times: user 458 ms, sys: 165 µs, total: 458 ms\n",
      "Wall time: 477 ms\n",
      "CPU times: user 124 ms, sys: 12 µs, total: 124 ms\n",
      "Wall time: 124 ms\n"
     ]
    }
   ],
   "source": [
    "#NEVH\n",
    "%time trjn = solve_ivp(G, time_interval, s0, max_step=dt, t_eval=t)\n",
    "tn = trjn.t\n",
    "q1n, q2n, p1n, p2n = trjn.y[:4]\n",
    "\n",
    "#Standard\n",
    "%time trjs = solve_ivp(rhs, time_interval, s0, max_step=dt, t_eval=t, args = [m, g, l])\n",
    "ts = trjs.t\n",
    "q1s, q2s, p1s, p2s = trjs.y[:4]"
   ]
  },
  {
   "cell_type": "code",
   "execution_count": 8,
   "id": "bbd58f7e",
   "metadata": {},
   "outputs": [
    {
     "data": {
      "image/png": "[encoded data removed]",
      "text/plain": [
       "<Figure size 864x288 with 2 Axes>"
      ]
     },
     "metadata": {
      "needs_background": "light"
     },
     "output_type": "display_data"
    }
   ],
   "source": [
    "fig, (axq1,axq2) = plt.subplots(1,2, figsize=(12,4))\n",
    "axq1.set_ylim(-0.6,2.1)\n",
    "axq2.set_ylim(-0.6,2.1)\n",
    "axq1.set_ylabel(r\"$\\Delta \\varphi_1$ (rad)\")\n",
    "axq2.set_ylabel(r\"$\\Delta \\varphi_2$ (rad)\")\n",
    "axq1.set_xlabel(r\"$t$ (s)\")\n",
    "axq2.set_xlabel(r\"$t$ (s)\")\n",
    "plt.subplots_adjust(wspace=0.3)\n",
    "axq1. plot(tn,q1n-q1s,'k');\n",
    "axq2. plot(tn,q2n-q2s,'k');"
   ]
  },
  {
   "cell_type": "code",
   "execution_count": 9,
   "id": "d23c0d6e",
   "metadata": {},
   "outputs": [],
   "source": [
    "fig.savefig(\"dpchaos.png\", bbox_inches='tight',dpi=300)"
   ]
  },
  {
   "cell_type": "code",
   "execution_count": null,
   "id": "04ae4823",
   "metadata": {},
   "outputs": [],
   "source": []
  }
 ],
 "metadata": {
  "kernelspec": {
   "display_name": "Python 3 (ipykernel)",
   "language": "python",
   "name": "python3"
  },
  "language_info": {
   "codemirror_mode": {
    "name": "ipython",
    "version": 3
   },
   "file_extension": ".py",
   "mimetype": "text/x-python",
   "name": "python",
   "nbconvert_exporter": "python",
   "pygments_lexer": "ipython3",
   "version": "3.9.12"
  }
 },
 "nbformat": 4,
 "nbformat_minor": 5
}
