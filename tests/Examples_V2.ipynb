{
 "cells": [
  {
   "cell_type": "markdown",
   "metadata": {},
   "source": [
    "# NEVH - Numerical Evolution from the Hamiltonian (V2)"
   ]
  },
  {
   "cell_type": "code",
   "execution_count": 1,
   "metadata": {},
   "outputs": [],
   "source": [
    "import sys\n",
    "import numpy as np\n",
    "from scipy.integrate import solve_ivp\n",
    "import matplotlib.pyplot as plt\n",
    "\n",
    "#The following line makes modules in src/ accessible from the (current) test/ dir\n",
    "sys.path.append(\"../src\")\n",
    "import nevh"
   ]
  },
  {
   "cell_type": "markdown",
   "metadata": {},
   "source": [
    "## Simple Harmonic Motion"
   ]
  },
  {
   "cell_type": "code",
   "execution_count": 2,
   "metadata": {},
   "outputs": [],
   "source": [
    "# Hamiltonian function\n",
    "def H(t, s, k, m):\n",
    "    x, p = s\n",
    "    return 0.5*k*x**2 + 0.5*p**2/m"
   ]
  },
  {
   "cell_type": "code",
   "execution_count": 4,
   "metadata": {},
   "outputs": [],
   "source": [
    "# Initial state: off equilibrium position, at rest\n",
    "x0 = 1.0\n",
    "p0 = 0.0\n",
    "initial_state = [x0,p0]\n",
    "# Integration steps parameters for partial derivatives dH/dq and dH/dp\n",
    "ds = np.ones(2)*0.1\n",
    "# Hamiltonian parameters. With k=4\\pi^2, m=1, the period is 1\n",
    "kc = 4 * np.pi**2\n",
    "mc = 1\n",
    "wc = (kc / mc)**0.5; Tc = 2 * np.pi / wc\n",
    "tmin = 0; tmax = 2 * Tc # two full oscillation periods\n",
    "G = nevh.Hgrad(H, ds, k=kc, m=mc)"
   ]
  },
  {
   "cell_type": "code",
   "execution_count": 10,
   "metadata": {},
   "outputs": [
    {
     "data": {
      "image/png": "[encoded data removed]",
      "text/plain": [
       "<Figure size 432x288 with 1 Axes>"
      ]
     },
     "metadata": {
      "needs_background": "light"
     },
     "output_type": "display_data"
    }
   ],
   "source": [
    "# Solve Hamilton's equations using simpy.solve_ivp\n",
    "trj = solve_ivp(G, [tmin, tmax], initial_state)\n",
    "# And that's it! Now plot the solution\n",
    "t_nm = trj.t\n",
    "x_nm, p_nm = trj.y\n",
    "plt.plot(t_nm, x_nm, '.', label='$x$')\n",
    "plt.plot(t_nm, p_nm, 'x', label=\"$p$\")   # Plot of x and p\n",
    "plt.legend()\n",
    "# Compare with analytical solution\n",
    "A = (x0**2 + (p0/(mc*wc))**2)**0.5\n",
    "phi = np.arctan(-p0/(x0*mc*wc))\n",
    "t_an = np.linspace(0,tmax,100)\n",
    "x_an = A * np.cos(wc*t_an + phi)\n",
    "p_an = -mc*wc*A * np.sin(wc*t_an + phi)\n",
    "plt.plot(t_an,x_an,'b', t_an,p_an,'orange')\n",
    "plt.xlabel('$t$')\n",
    "plt.show();"
   ]
  },
  {
   "cell_type": "markdown",
   "metadata": {},
   "source": [
    "## Two equal coupled oscilators"
   ]
  },
  {
   "cell_type": "markdown",
   "metadata": {},
   "source": [
    "Two equal masses coupled to each other and to opposing walls of a box with equal springs."
   ]
  },
  {
   "cell_type": "code",
   "execution_count": null,
   "metadata": {},
   "outputs": [],
   "source": [
    "def H2(t, s, k, m, L):\n",
    "    x1, x2, p1, p2 = s\n",
    "    U = 0.5 * k * ( (x1 + L/6)**2 + (x2-x1 - L/3)**2 + (x2 - L/6)**2)\n",
    "    T = 0.5 * (p1**2 + p2**2) / m\n",
    "    return T + U"
   ]
  },
  {
   "cell_type": "code",
   "execution_count": null,
   "metadata": {},
   "outputs": [],
   "source": [
    "s0 = np.array([0, 1./6, 0., 0.])   # Initial state\n",
    "ds = np.ones(4) * 0.02             # Spatial discretization step \n",
    "kc = 1.0                           # Elastic constant\n",
    "mc = 1.0                           # Mass\n",
    "Lc = 1.0                           # Rest separation\n",
    "tmin = 0.0; tmax = 20.0\n",
    "F = nevh.Hgrad(H2, ds, k=kc, m=mc, L=Lc)\n",
    "T = solve_ivp(F, [tmin, tmax], s0, max_step=0.1)\n",
    "plt.xlabel('$t$'); plt.ylabel('$y$')\n",
    "plt.plot(T.t, T.y[0], label='$y_1$');\n",
    "plt.plot(T.t, T.y[1], label='$y_2$');\n",
    "plt.legend()\n",
    "plt.show();"
   ]
  },
  {
   "cell_type": "code",
   "execution_count": null,
   "metadata": {},
   "outputs": [],
   "source": [
    "plt.xlabel('$x_1$')\n",
    "plt.ylabel('$p_1$')\n",
    "plt.plot(T.y[0],T.y[1]); # Phase space trajectory of m1\n",
    "plt.title(\"Phase space trajectory of $m_1$\")\n",
    "plt.show()"
   ]
  },
  {
   "cell_type": "markdown",
   "metadata": {},
   "source": [
    "## Elastic pendulum"
   ]
  },
  {
   "cell_type": "code",
   "execution_count": null,
   "metadata": {},
   "outputs": [],
   "source": [
    "from math import cos\n",
    "def H3(t,s,m,g,l0,k):\n",
    "    l, q, pl, pq = s\n",
    "    T = (0.5 / m) * (pl**2 + (pq / l)**2)\n",
    "    U = -m * g * l * cos(q) + 0.5 * k * (l - l0)**2\n",
    "    return T + U"
   ]
  },
  {
   "cell_type": "code",
   "execution_count": null,
   "metadata": {},
   "outputs": [],
   "source": [
    "s0 = np.array([1.0, 0.1, 0.0, 0.0])\n",
    "ds = np.ones(4)*0.1\n",
    "mc = 1.0; gc = 10.0; l0c = 1.0; kc = 1000.0\n",
    "F3 = nevh.Hgrad(H3, ds, k=kc, m=mc, l0=l0c, g=gc)\n",
    "tmin = 0.0; tmax = 10.0\n",
    "T = solve_ivp(F3, [tmin, tmax], s0, max_step=0.05)\n",
    "t = T.t\n",
    "l, theta = T.y[:2]\n",
    "plt.xlabel('$t$')\n",
    "plt.plot(t, l, label=\"$l$\")\n",
    "plt.plot(t, theta, label=r\"$\\theta$\");\n",
    "plt.legend()\n",
    "plt.show()\n"
   ]
  },
  {
   "cell_type": "markdown",
   "metadata": {},
   "source": [
    "### Sun-Earth, CM frame, AU, SolarMass, year units"
   ]
  },
  {
   "cell_type": "code",
   "execution_count": null,
   "metadata": {},
   "outputs": [],
   "source": [
    "def H5(t, s, G, M, mu):\n",
    "    x, y, px, py = s\n",
    "    V = -G * mu * M / (np.sqrt(x**2 + y**2))\n",
    "    T = 1/(2 * mu) * (px**2 + py**2)\n",
    "    return T + V"
   ]
  },
  {
   "cell_type": "code",
   "execution_count": null,
   "metadata": {},
   "outputs": [],
   "source": [
    "grav_const = 39.4905\n",
    "total_mass = 1.0\n",
    "reduced_mass = 3.0034E-6\n",
    "r0 = 1.0\n",
    "p0 = reduced_mass * (grav_const * total_mass/r0)**0.5\n",
    "s0 = np.array ([r0, 0, 0, p0])\n",
    "ds = np.ones(4)*0.01\n",
    "F5 = nevh.Hgrad(H5, ds, G=grav_const, M=total_mass, mu=reduced_mass)\n",
    "tmin = 0.0; tmax = 20\n",
    "T = solve_ivp(F5, [tmin, tmax], s0, max_step=0.02)\n",
    "t = T.t\n",
    "x,y = T.y[:2]\n",
    "plt.axis('equal')\n",
    "plt.plot(x,y);"
   ]
  },
  {
   "cell_type": "markdown",
   "metadata": {},
   "source": [
    "### Sun-Earth-Moon, Sun fixed, AU, SolarMass, year units"
   ]
  },
  {
   "cell_type": "code",
   "execution_count": null,
   "metadata": {},
   "outputs": [],
   "source": [
    "Ms = 1\n",
    "def H6(t, s, G, m1, m2):\n",
    "    x1, y1, x2, y2, px1, py1, px2, py2 = s\n",
    "    V = -G * (Ms * m1 / np.sqrt(x1**2 + y1**2) + Ms * m2 / np.sqrt(x2**2 + y2**2) + \n",
    "              m1 * m2 / np.sqrt((x1-x2)**2 + (y1-y2)**2))\n",
    "    T = 1/(2 * m1) * (px1**2 + py1**2) + 1/(2 * m2) * (px2**2 + py2**2)\n",
    "    return T + V"
   ]
  },
  {
   "cell_type": "code",
   "execution_count": null,
   "metadata": {},
   "outputs": [],
   "source": [
    "grav_const = 39.4905\n",
    "me = 3.0034E-6\n",
    "mm = 3.6923E-8\n",
    "r0 = 1.0\n",
    "r1 = 2.6E-3\n",
    "p0 = me * (grav_const / r0)**0.5\n",
    "p1 = 1*mm * (p0/me + (grav_const * me / r1)**0.5)\n",
    "s0 = np.array ([r0, 0, r0+r1, 0, 0, p0, 0, p1])\n",
    "ds = np.ones(8)*0.0001\n",
    "F6 = nevh.Hgrad(H6, ds, G=grav_const, m1=me, m2=mm)\n",
    "tmin = 0.0; tmax = 1\n",
    "T = solve_ivp(F6, [tmin, tmax], s0, max_step=0.001)\n",
    "t = T.t\n",
    "x1,y1,x2,y2 = T.y[:4]\n",
    "plt.axis('equal')\n",
    "plt.plot(x1,y1,x2,y2);"
   ]
  },
  {
   "cell_type": "code",
   "execution_count": null,
   "metadata": {},
   "outputs": [],
   "source": [
    "# Another Two Body System in a central field\n",
    "grav_const = 39.4905\n",
    "me = 3.0034E-1\n",
    "mm = 3.6923E-7\n",
    "r0 = 1.0\n",
    "r1 = 1.2\n",
    "p0 = me * (grav_const / r0)**0.5\n",
    "p1 = 0.2*mm * (p0/me + (grav_const * me / r1)**0.5)\n",
    "s0 = np.array ([r0, 0, r1, 0, 0, p0, 0, p1])\n",
    "ds = np.ones(8)*0.00001\n",
    "F6b = nevh.Hgrad(H6, ds, G=grav_const, m1=me, m2=mm)\n",
    "tmin = 0.0; tmax = 1.\n",
    "T = solve_ivp(F6b, [tmin, tmax], s0, max_step=0.0005)\n",
    "t = T.t\n",
    "x1,y1,x2,y2 = T.y[:4]\n",
    "plt.axis('equal')\n",
    "plt.plot(x1,y1,x2,y2);\n"
   ]
  },
  {
   "cell_type": "markdown",
   "metadata": {},
   "source": [
    "### Double Pendulum"
   ]
  },
  {
   "cell_type": "markdown",
   "metadata": {},
   "source": [
    "$$\n",
    "H(\\theta_1, \\theta_2, \\dot\\theta_1, \\dot\\theta_2)=\\frac{1}{2}(m_1+m_2)l_1^2\\dot\\theta_1^2\n",
    "+\\frac{1}{2}m_2l_2^2\\dot\\theta_2^2\n",
    "+m_2l_1l_2\\dot\\theta_1\\dot\\theta_2\\cos(\\theta_2-\\theta_1)+\n",
    "(m_1+m_2)gl_1\\cos\\theta_1-m_2gl_2\\cos\\theta_2\n",
    "$$"
   ]
  },
  {
   "cell_type": "code",
   "execution_count": null,
   "metadata": {},
   "outputs": [],
   "source": [
    "from math import cos, sin\n",
    "def H7(t, s, m1, m2, l1, l2, g):\n",
    "    q1, q2, p1, p2 = s\n",
    "    T1 = m2 * l2**2 * p1**2\n",
    "    T2 = (m1 + m2) * l1**2 * p2**2\n",
    "    T3 = -2 * m2* l1 * l2 * p1 * p2 * cos(q1-q2)\n",
    "    Td = 2 * m2 * l1**2 * l2**2 * (m1 + m2 * (sin(q1 - q2))**2)\n",
    "    T = (T1 + T2 + T3) / Td\n",
    "    U1 = -(m1 + m2) * g * l1 * cos(q1)\n",
    "    U2 = -m2 * g * l2 * cos(q2)\n",
    "    U = U1 + U2\n",
    "    return T + U"
   ]
  },
  {
   "cell_type": "code",
   "execution_count": null,
   "metadata": {},
   "outputs": [],
   "source": [
    "m1n = 1.0\n",
    "m2n = 0.01\n",
    "l1n = 1.0\n",
    "l2n = 1.0\n",
    "gn = 10.0\n",
    "q2 = 0.0\n",
    "q1 = np.pi / 36\n",
    "p1 = 0.0\n",
    "p2 = 0.0\n",
    "s0 = np.array([q1, q2, p1, p2])\n",
    "ds = np.ones(4)*0.0001\n",
    "F7 = nevh.Hgrad(H7, ds, m1=m1n, m2=m2n, l1=l1n, l2=l2n, g=gn)\n",
    "tmin = 0.0; tmax = 50\n",
    "T = solve_ivp(F7, [tmin, tmax], s0, max_step=0.001)\n",
    "t = T.t\n",
    "q1,q2,p1,p2 = T.y[:4]\n",
    "plt.plot(t,q1, t,q2);"
   ]
  },
  {
   "cell_type": "markdown",
   "metadata": {},
   "source": [
    "### Lotka-Volterra"
   ]
  },
  {
   "cell_type": "code",
   "execution_count": null,
   "metadata": {},
   "outputs": [],
   "source": []
  }
 ],
 "metadata": {
  "kernelspec": {
   "display_name": "Python 3",
   "language": "python",
   "name": "python3"
  },
  "language_info": {
   "codemirror_mode": {
    "name": "ipython",
    "version": 3
   },
   "file_extension": ".py",
   "mimetype": "text/x-python",
   "name": "python",
   "nbconvert_exporter": "python",
   "pygments_lexer": "ipython3",
   "version": "3.8.10"
  }
 },
 "nbformat": 4,
 "nbformat_minor": 4
}
