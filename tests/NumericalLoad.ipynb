{
 "cells": [
  {
   "cell_type": "code",
   "execution_count": 1,
   "metadata": {},
   "outputs": [],
   "source": [
    "import sys\n",
    "import numpy as np\n",
    "from scipy.integrate import solve_ivp\n",
    "import matplotlib.pyplot as plt\n",
    "\n",
    "#The following line makes modules in src/ accessible from the (current) test/ dir\n",
    "sys.path.append(\"../src\")\n",
    "import nevh"
   ]
  },
  {
   "cell_type": "code",
   "execution_count": 2,
   "metadata": {},
   "outputs": [],
   "source": [
    "# Hamiltonian function\n",
    "def H(t, s, k, m):\n",
    "    x, p = s\n",
    "    return 0.5*k*x**2 + 0.5*p**2/m"
   ]
  },
  {
   "cell_type": "code",
   "execution_count": 8,
   "metadata": {},
   "outputs": [],
   "source": [
    "def hg(t, s, k, m):\n",
    "    q, p = s\n",
    "    return [p/m, k*q]"
   ]
  },
  {
   "cell_type": "code",
   "execution_count": 11,
   "metadata": {},
   "outputs": [],
   "source": [
    "s0 = np.array([0.5,0])   # Initial state: off equilibrium position, at rest\n",
    "ds = np.ones(2)*0.1      # Integration steps parameters for partial derivatives dH/dq and dH/dp\n",
    "# Hamiltonian parameters. With k=4\\pi^2, m=1, the period is 1\n",
    "kc = 4 * np.pi**2\n",
    "mc = 1\n",
    "tmin = 0; tmax = 5\n",
    "G = nevh.Hgrad(H, ds, k=kc, m=mc)\n",
    "#trj = solve_ivp(G, [tmin, tmax], s0, max_step=0.05)"
   ]
  },
  {
   "cell_type": "code",
   "execution_count": 12,
   "metadata": {},
   "outputs": [
    {
     "name": "stdout",
     "output_type": "stream",
     "text": [
      "CPU times: user 43.6 ms, sys: 4.76 ms, total: 48.3 ms\n",
      "Wall time: 38.8 ms\n"
     ]
    }
   ],
   "source": [
    "time trj = solve_ivp(G, [tmin, tmax], s0, max_step=0.1)"
   ]
  },
  {
   "cell_type": "code",
   "execution_count": 13,
   "metadata": {},
   "outputs": [],
   "source": [
    "trj = solve_ivp(hg, [tmin, tmax], s0, args=[kc, 1])"
   ]
  },
  {
   "cell_type": "code",
   "execution_count": 14,
   "metadata": {},
   "outputs": [
    {
     "data": {
      "text/plain": [
       "[<matplotlib.lines.Line2D at 0x7f6620008ac8>]"
      ]
     },
     "execution_count": 14,
     "metadata": {},
     "output_type": "execute_result"
    },
    {
     "data": {
      "image/png": "[encoded data removed]",
      "text/plain": [
       "<matplotlib.figure.Figure at 0x7f66220fe710>"
      ]
     },
     "metadata": {},
     "output_type": "display_data"
    }
   ],
   "source": [
    "plt.plot(trj.t, trj.y[0])"
   ]
  },
  {
   "cell_type": "code",
   "execution_count": null,
   "metadata": {},
   "outputs": [],
   "source": []
  }
 ],
 "metadata": {
  "kernelspec": {
   "display_name": "Python 3",
   "language": "python",
   "name": "python3"
  },
  "language_info": {
   "codemirror_mode": {
    "name": "ipython",
    "version": 3
   },
   "file_extension": ".py",
   "mimetype": "text/x-python",
   "name": "python",
   "nbconvert_exporter": "python",
   "pygments_lexer": "ipython3",
   "version": "3.8.5"
  }
 },
 "nbformat": 4,
 "nbformat_minor": 2
}
